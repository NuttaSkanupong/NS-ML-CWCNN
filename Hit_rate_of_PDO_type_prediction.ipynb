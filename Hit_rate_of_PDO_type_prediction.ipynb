{
 "cells": [
  {
   "cell_type": "code",
   "execution_count": 1,
   "id": "b05c73dc",
   "metadata": {},
   "outputs": [],
   "source": [
    "import expectexception\n",
    "import numpy as np\n",
    "import xarray as xr\n",
    "from matplotlib import pyplot as plt\n",
    "from matplotlib.dates import DateFormatter\n",
    "import matplotlib.dates as mdates\n",
    "import matplotlib.cbook as cbook\n",
    "\n",
    "import warnings; warnings.filterwarnings(action='ignore')\n",
    "%matplotlib inline\n",
    "\n",
    "#for Netcdf manipulation\n",
    "import xarray as xr\n",
    "from netCDF4 import Dataset\n",
    "import netCDF4 as nc\n",
    "\n",
    "#for array manipulation\n",
    "import numpy as np\n",
    "import pandas as pd\n",
    "from scipy import signal\n",
    "\n",
    "#for plotting\n",
    "import cartopy.crs as ccrs\n",
    "import cartopy.feature as cfeature\n",
    "import matplotlib.pylab as plt\n",
    "\n",
    "#for interpolation\n",
    "from scipy.spatial import cKDTree\n",
    "\n",
    "import xarray as xr\n",
    "import numpy as np\n",
    "import cmocean # for perceptually uniform colormaps\n",
    "import cartopy as cr # for geographic mapping\n",
    "import cartopy.crs as ccrs # for map projections\n",
    "import matplotlib.pyplot as plt # plotting tool\n",
    "import cartopy.feature as cfeature # to add coastlines, land and ocean\n",
    "from cartopy import config\n",
    "import cartopy.crs as ccrs\n",
    "from cartopy.feature import NaturalEarthFeature\n",
    "import matplotlib.ticker as mticker\n",
    "from cartopy.mpl.gridliner import LONGITUDE_FORMATTER, LATITUDE_FORMATTER\n",
    "import cartopy.feature as cfea\n",
    "import seaborn as sns\n",
    "import netCDF4\n",
    "import numpy\n",
    "import xarray\n",
    "from netCDF4 import Dataset\n",
    "import datetime\n",
    "import csv\n",
    "from scipy import signal\n",
    "import scipy.stats"
   ]
  },
  {
   "cell_type": "code",
   "execution_count": 2,
   "id": "980704f9",
   "metadata": {},
   "outputs": [],
   "source": [
    "##Saved path \n",
    "ifile = 'C:/Users/user/Research/Research Code/CNN/PDO/'\n",
    "ifile_data ='C:/Users/user/Research/Research Code/CNN/Data/'\n",
    "outdir = 'C:/Users/user/Research/Research Code/CNN/PDO/'\n",
    "outdir_smooth_pred_MME = 'C:/Users/user/Research/Research Code/MME_CMIP6/PDO/smoothed/pred/'\n",
    "outdir_original_valid = 'C:/Users/user/Research/Research Code/CIMP6/PDO/original/validation/'\n",
    "outdir_smooth_pred_CWCNN = 'C:/Users/user/Research/Research Code/CNN/CW_PDO/smoothed/pred/'"
   ]
  },
  {
   "cell_type": "code",
   "execution_count": 3,
   "id": "291f5dde",
   "metadata": {},
   "outputs": [],
   "source": [
    "def correlation(x,y,z):\n",
    "    corr_test = np.corrcoef(x [0:i],y [0:i])[0,1]\n",
    "    z.append(corr_test)\n",
    "def adjust(ds):\n",
    "    z1 = np.array(ds)\n",
    "    df = pd.DataFrame (z1)\n",
    "    pred = df.iloc[:,0]\n",
    "    return pred \n",
    "def frame(ds):\n",
    "    df_ds = pd.DataFrame(ds,a)\n",
    "    y_ds = df_ds.groupby(pd.Grouper(freq='1Y')).mean()\n",
    "    return y_ds\n",
    "def mean(x):\n",
    "    avg = sum(x)/len(x)\n",
    "    return round(avg,2)\n",
    "def lowpass_filter (x,y):\n",
    "    '''fraction of nyquist frequency, here  it is 10 years'''\n",
    "    fs=1/12/30/24/3600 \n",
    "\n",
    "    nyquist = fs / 2 # 0.5 times the sampling frequency\n",
    "    cutoff=x # fraction of nyquist frequency, here  it is 10 years\n",
    "    b, a = signal.butter(5, cutoff, btype='lowpass') #low pass filter\n",
    "\n",
    "\n",
    "    dUfilt = signal.filtfilt(b, a, y)\n",
    "    dUfilt=np.array(dUfilt)\n",
    "    dUfilt=dUfilt.transpose()\n",
    "    return dUfilt"
   ]
  },
  {
   "cell_type": "code",
   "execution_count": 4,
   "id": "d2c5c6a5",
   "metadata": {},
   "outputs": [],
   "source": [
    "time = np.arange('1983-01', '2023-01', dtype='datetime64[M]')"
   ]
  },
  {
   "cell_type": "code",
   "execution_count": 5,
   "id": "f496f204",
   "metadata": {},
   "outputs": [],
   "source": [
    "##Import observation\n",
    "PDO_ncei = pd.read_excel(ifile_data+'NCEI PDO index _overall.xlsx',header=None,index_col=None,\n",
    "                      skiprows=985, skipfooter = 0,\n",
    "                      usecols=[1]  \n",
    "                     )\n",
    "\n",
    "PDO_ncei = adjust(PDO_ncei)"
   ]
  },
  {
   "cell_type": "code",
   "execution_count": 6,
   "id": "86c374da",
   "metadata": {},
   "outputs": [],
   "source": [
    "lead_time=360\n",
    "#Imported PDO index\n",
    "PDO_CNN = np.loadtxt(outdir_smooth_pred_CWCNN+'Result_PDO index_pred_cwcnn_smoothed'+str(lead_time)+'.csv', dtype=float)\n",
    "PDO_MME = np.loadtxt(outdir_smooth_pred_MME+'Result_PDO index_MME_smoothed'+'.csv', dtype=float)\n",
    "PDO_MPI_ESM = np.loadtxt(outdir_smooth_pred_MME+'Result_PDO index_MPI-ESM1-2_smoothed.csv', dtype=float)\n",
    "PDO_ACCESS_CM2 = np.loadtxt(outdir_smooth_pred_MME+'Result_PDO index_ACCESS-CM2_smoothed.csv', dtype=float)\n",
    "PDO_CAMS_CSM1_0 = np.loadtxt(outdir_smooth_pred_MME+'Result_PDO index_CAMS-CSM1-0_smoothed.csv', dtype=float)\n",
    "PDO_CanESM5 = np.loadtxt(outdir_smooth_pred_MME+'Result_PDO index_CanESM5_smoothed.csv', dtype=float)\n",
    "PDO_CMCC_CM2_SR5 = np.loadtxt(outdir_smooth_pred_MME+'Result_PDO index_CMCC-CM2-SR5_smoothed.csv', dtype=float)\n",
    "PDO_INM_CM4_8 = np.loadtxt(outdir_smooth_pred_MME+'Result_PDO index_INM-CM4-8_smoothed.csv', dtype=float)\n",
    "PDO_MIROC6 = np.loadtxt(outdir_smooth_pred_MME+'Result_PDO index_MIROC6_smoothed.csv', dtype=float)"
   ]
  },
  {
   "cell_type": "code",
   "execution_count": 7,
   "id": "f3a650f5",
   "metadata": {},
   "outputs": [],
   "source": [
    "index = ['CNN','MME','MPI-ESM','ACCESS-CM2','CAMS-CSM1-0','CanESM5','CMCC-CM2-SR5','INM-CM4-8','MIROC6']"
   ]
  },
  {
   "cell_type": "code",
   "execution_count": 8,
   "id": "7c9536c8",
   "metadata": {},
   "outputs": [
    {
     "data": {
      "text/plain": [
       "(480,)"
      ]
     },
     "execution_count": 8,
     "metadata": {},
     "output_type": "execute_result"
    }
   ],
   "source": [
    "PDO_CAMS_CSM1_0.shape"
   ]
  },
  {
   "cell_type": "code",
   "execution_count": 9,
   "id": "473a9a12",
   "metadata": {},
   "outputs": [],
   "source": [
    "#Converted data \n",
    "phase_ncei=[]\n",
    "phase_CNN=[]\n",
    "phase_MME=[]\n",
    "phase_MPI_ESM=[]\n",
    "phase_ACCESS_CM2=[]\n",
    "phase_CAMS_CSM1_0=[]\n",
    "phase_CanESM5=[]\n",
    "phase_CMCC_CM2_SR5=[]\n",
    "phase_INM_CM4_8=[]\n",
    "phase_MIROC6=[]\n",
    "\n",
    "a= PDO_ncei\n",
    "for i in range(0,480):\n",
    "    if a[i]>0:\n",
    "        phase_ncei.append(\"Positive\")\n",
    "    else:\n",
    "        phase_ncei.append(\"Negative\")\n",
    "a= PDO_CNN\n",
    "for i in range(0,480):\n",
    "    if a[i]>0:\n",
    "        phase_CNN.append(\"Positive\")\n",
    "    else:\n",
    "        phase_CNN.append(\"Negative\")\n",
    "        \n",
    "a= PDO_MME\n",
    "for i in range(0,480):\n",
    "    if a[i]>0:\n",
    "        phase_MME.append(\"Positive\")\n",
    "    else:\n",
    "        phase_MME.append(\"Negative\")\n",
    "        \n",
    "a= PDO_MPI_ESM\n",
    "for i in range(0,480):\n",
    "    if a[i]>0:\n",
    "        phase_MPI_ESM.append(\"Positive\")\n",
    "    else:\n",
    "        phase_MPI_ESM.append(\"Negative\")\n",
    "        \n",
    "a= PDO_ACCESS_CM2\n",
    "for i in range(0,480):\n",
    "    if a[i]>0:\n",
    "        phase_ACCESS_CM2.append(\"Positive\")\n",
    "    else:\n",
    "        phase_ACCESS_CM2.append(\"Negative\")\n",
    "        \n",
    "a= PDO_CAMS_CSM1_0\n",
    "for i in range(0,480):\n",
    "    if a[i]>0:\n",
    "        phase_CAMS_CSM1_0.append(\"Positive\")\n",
    "    else:\n",
    "        phase_CAMS_CSM1_0.append(\"Negative\")\n",
    "        \n",
    "a= PDO_CanESM5\n",
    "for i in range(0,480):\n",
    "    if a[i]>0:\n",
    "        phase_CanESM5.append(\"Positive\")\n",
    "    else:\n",
    "        phase_CanESM5.append(\"Negative\")\n",
    "        \n",
    "a= PDO_CMCC_CM2_SR5\n",
    "for i in range(0,480):\n",
    "    if a[i]>0:\n",
    "        phase_CMCC_CM2_SR5.append(\"Positive\")\n",
    "    else:\n",
    "        phase_CMCC_CM2_SR5.append(\"Negative\")\n",
    "        \n",
    "a= PDO_INM_CM4_8\n",
    "for i in range(0,480):\n",
    "    if a[i]>0:\n",
    "        phase_INM_CM4_8.append(\"Positive\")\n",
    "    else:\n",
    "        phase_INM_CM4_8.append(\"Negative\")\n",
    "        \n",
    "a= PDO_MIROC6\n",
    "for i in range(0,480):\n",
    "    if a[i]>0:\n",
    "        phase_MIROC6.append(\"Positive\")\n",
    "    else:\n",
    "        phase_MIROC6.append(\"Negative\")"
   ]
  },
  {
   "cell_type": "code",
   "execution_count": 10,
   "id": "66767999",
   "metadata": {},
   "outputs": [],
   "source": [
    "#Created dataframe\n",
    "data=[phase_ncei, phase_CNN, phase_MME,phase_MPI_ESM, phase_ACCESS_CM2, phase_CAMS_CSM1_0,\n",
    "                        phase_CanESM5, phase_CMCC_CM2_SR5,phase_INM_CM4_8,phase_MIROC6]"
   ]
  },
  {
   "cell_type": "code",
   "execution_count": 11,
   "id": "4fc83050",
   "metadata": {},
   "outputs": [],
   "source": [
    "plotdata = pd.DataFrame({'NCEI': phase_ncei,'CNN': phase_CNN,'MME': phase_MME,'MPI-ESM': phase_MPI_ESM,'ACCESS-CM2': phase_ACCESS_CM2,\n",
    "                         'CAMS-CSM1-0': phase_CAMS_CSM1_0,'CanESM5': phase_CanESM5,'CMCC-CM2-SR5': phase_CMCC_CM2_SR5,\n",
    "                         'INM-CM4-8': phase_INM_CM4_8,'MIROC6':phase_MIROC6 }, index = time,\n",
    "    columns = ['NCEI','CNN','MME','MPI-ESM','ACCESS-CM2','CAMS-CSM1-0','CanESM5','CMCC-CM2-SR5','INM-CM4-8','MIROC6']) "
   ]
  },
  {
   "cell_type": "code",
   "execution_count": 12,
   "id": "f3c3436c",
   "metadata": {},
   "outputs": [
    {
     "data": {
      "text/html": [
       "<div>\n",
       "<style scoped>\n",
       "    .dataframe tbody tr th:only-of-type {\n",
       "        vertical-align: middle;\n",
       "    }\n",
       "\n",
       "    .dataframe tbody tr th {\n",
       "        vertical-align: top;\n",
       "    }\n",
       "\n",
       "    .dataframe thead th {\n",
       "        text-align: right;\n",
       "    }\n",
       "</style>\n",
       "<table border=\"1\" class=\"dataframe\">\n",
       "  <thead>\n",
       "    <tr style=\"text-align: right;\">\n",
       "      <th></th>\n",
       "      <th>NCEI</th>\n",
       "      <th>CNN</th>\n",
       "      <th>MME</th>\n",
       "      <th>MPI-ESM</th>\n",
       "      <th>ACCESS-CM2</th>\n",
       "      <th>CAMS-CSM1-0</th>\n",
       "      <th>CanESM5</th>\n",
       "      <th>CMCC-CM2-SR5</th>\n",
       "      <th>INM-CM4-8</th>\n",
       "      <th>MIROC6</th>\n",
       "    </tr>\n",
       "  </thead>\n",
       "  <tbody>\n",
       "    <tr>\n",
       "      <th>1983-01-01</th>\n",
       "      <td>Positive</td>\n",
       "      <td>Positive</td>\n",
       "      <td>Positive</td>\n",
       "      <td>Negative</td>\n",
       "      <td>Negative</td>\n",
       "      <td>Positive</td>\n",
       "      <td>Negative</td>\n",
       "      <td>Negative</td>\n",
       "      <td>Positive</td>\n",
       "      <td>Negative</td>\n",
       "    </tr>\n",
       "    <tr>\n",
       "      <th>1983-02-01</th>\n",
       "      <td>Positive</td>\n",
       "      <td>Positive</td>\n",
       "      <td>Positive</td>\n",
       "      <td>Negative</td>\n",
       "      <td>Negative</td>\n",
       "      <td>Positive</td>\n",
       "      <td>Negative</td>\n",
       "      <td>Negative</td>\n",
       "      <td>Positive</td>\n",
       "      <td>Positive</td>\n",
       "    </tr>\n",
       "    <tr>\n",
       "      <th>1983-03-01</th>\n",
       "      <td>Positive</td>\n",
       "      <td>Positive</td>\n",
       "      <td>Positive</td>\n",
       "      <td>Negative</td>\n",
       "      <td>Negative</td>\n",
       "      <td>Positive</td>\n",
       "      <td>Negative</td>\n",
       "      <td>Negative</td>\n",
       "      <td>Positive</td>\n",
       "      <td>Positive</td>\n",
       "    </tr>\n",
       "    <tr>\n",
       "      <th>1983-04-01</th>\n",
       "      <td>Positive</td>\n",
       "      <td>Positive</td>\n",
       "      <td>Positive</td>\n",
       "      <td>Negative</td>\n",
       "      <td>Negative</td>\n",
       "      <td>Positive</td>\n",
       "      <td>Negative</td>\n",
       "      <td>Negative</td>\n",
       "      <td>Positive</td>\n",
       "      <td>Positive</td>\n",
       "    </tr>\n",
       "    <tr>\n",
       "      <th>1983-05-01</th>\n",
       "      <td>Positive</td>\n",
       "      <td>Positive</td>\n",
       "      <td>Positive</td>\n",
       "      <td>Negative</td>\n",
       "      <td>Negative</td>\n",
       "      <td>Positive</td>\n",
       "      <td>Negative</td>\n",
       "      <td>Negative</td>\n",
       "      <td>Positive</td>\n",
       "      <td>Positive</td>\n",
       "    </tr>\n",
       "    <tr>\n",
       "      <th>...</th>\n",
       "      <td>...</td>\n",
       "      <td>...</td>\n",
       "      <td>...</td>\n",
       "      <td>...</td>\n",
       "      <td>...</td>\n",
       "      <td>...</td>\n",
       "      <td>...</td>\n",
       "      <td>...</td>\n",
       "      <td>...</td>\n",
       "      <td>...</td>\n",
       "    </tr>\n",
       "    <tr>\n",
       "      <th>2022-08-01</th>\n",
       "      <td>Negative</td>\n",
       "      <td>Negative</td>\n",
       "      <td>Negative</td>\n",
       "      <td>Positive</td>\n",
       "      <td>Positive</td>\n",
       "      <td>Positive</td>\n",
       "      <td>Positive</td>\n",
       "      <td>Positive</td>\n",
       "      <td>Positive</td>\n",
       "      <td>Positive</td>\n",
       "    </tr>\n",
       "    <tr>\n",
       "      <th>2022-09-01</th>\n",
       "      <td>Negative</td>\n",
       "      <td>Negative</td>\n",
       "      <td>Negative</td>\n",
       "      <td>Positive</td>\n",
       "      <td>Positive</td>\n",
       "      <td>Positive</td>\n",
       "      <td>Positive</td>\n",
       "      <td>Positive</td>\n",
       "      <td>Positive</td>\n",
       "      <td>Positive</td>\n",
       "    </tr>\n",
       "    <tr>\n",
       "      <th>2022-10-01</th>\n",
       "      <td>Negative</td>\n",
       "      <td>Negative</td>\n",
       "      <td>Negative</td>\n",
       "      <td>Positive</td>\n",
       "      <td>Positive</td>\n",
       "      <td>Positive</td>\n",
       "      <td>Positive</td>\n",
       "      <td>Positive</td>\n",
       "      <td>Positive</td>\n",
       "      <td>Positive</td>\n",
       "    </tr>\n",
       "    <tr>\n",
       "      <th>2022-11-01</th>\n",
       "      <td>Negative</td>\n",
       "      <td>Negative</td>\n",
       "      <td>Negative</td>\n",
       "      <td>Positive</td>\n",
       "      <td>Positive</td>\n",
       "      <td>Positive</td>\n",
       "      <td>Positive</td>\n",
       "      <td>Positive</td>\n",
       "      <td>Positive</td>\n",
       "      <td>Positive</td>\n",
       "    </tr>\n",
       "    <tr>\n",
       "      <th>2022-12-01</th>\n",
       "      <td>Negative</td>\n",
       "      <td>Negative</td>\n",
       "      <td>Negative</td>\n",
       "      <td>Positive</td>\n",
       "      <td>Positive</td>\n",
       "      <td>Positive</td>\n",
       "      <td>Positive</td>\n",
       "      <td>Positive</td>\n",
       "      <td>Positive</td>\n",
       "      <td>Positive</td>\n",
       "    </tr>\n",
       "  </tbody>\n",
       "</table>\n",
       "<p>480 rows × 10 columns</p>\n",
       "</div>"
      ],
      "text/plain": [
       "                NCEI       CNN       MME   MPI-ESM ACCESS-CM2 CAMS-CSM1-0  \\\n",
       "1983-01-01  Positive  Positive  Positive  Negative   Negative    Positive   \n",
       "1983-02-01  Positive  Positive  Positive  Negative   Negative    Positive   \n",
       "1983-03-01  Positive  Positive  Positive  Negative   Negative    Positive   \n",
       "1983-04-01  Positive  Positive  Positive  Negative   Negative    Positive   \n",
       "1983-05-01  Positive  Positive  Positive  Negative   Negative    Positive   \n",
       "...              ...       ...       ...       ...        ...         ...   \n",
       "2022-08-01  Negative  Negative  Negative  Positive   Positive    Positive   \n",
       "2022-09-01  Negative  Negative  Negative  Positive   Positive    Positive   \n",
       "2022-10-01  Negative  Negative  Negative  Positive   Positive    Positive   \n",
       "2022-11-01  Negative  Negative  Negative  Positive   Positive    Positive   \n",
       "2022-12-01  Negative  Negative  Negative  Positive   Positive    Positive   \n",
       "\n",
       "             CanESM5 CMCC-CM2-SR5 INM-CM4-8    MIROC6  \n",
       "1983-01-01  Negative     Negative  Positive  Negative  \n",
       "1983-02-01  Negative     Negative  Positive  Positive  \n",
       "1983-03-01  Negative     Negative  Positive  Positive  \n",
       "1983-04-01  Negative     Negative  Positive  Positive  \n",
       "1983-05-01  Negative     Negative  Positive  Positive  \n",
       "...              ...          ...       ...       ...  \n",
       "2022-08-01  Positive     Positive  Positive  Positive  \n",
       "2022-09-01  Positive     Positive  Positive  Positive  \n",
       "2022-10-01  Positive     Positive  Positive  Positive  \n",
       "2022-11-01  Positive     Positive  Positive  Positive  \n",
       "2022-12-01  Positive     Positive  Positive  Positive  \n",
       "\n",
       "[480 rows x 10 columns]"
      ]
     },
     "execution_count": 12,
     "metadata": {},
     "output_type": "execute_result"
    }
   ],
   "source": [
    "plotdata"
   ]
  },
  {
   "cell_type": "code",
   "execution_count": 13,
   "id": "1ee483fc",
   "metadata": {},
   "outputs": [
    {
     "name": "stdout",
     "output_type": "stream",
     "text": [
      "76.66666666666667\n"
     ]
    }
   ],
   "source": [
    "#Compute percentage\n",
    "hitrate_cnn=0\n",
    "for i in range(0,480):\n",
    "\n",
    "    if phase_ncei[i] == phase_CNN[i]:\n",
    "        hitrate_cnn=hitrate_cnn+1\n",
    "    else:\n",
    "        hitrate_cnn=hitrate_cnn+0\n",
    "hitrate_cnn=(hitrate_cnn/len(phase_ncei))*100\n",
    "print(hitrate_cnn)"
   ]
  },
  {
   "cell_type": "code",
   "execution_count": 14,
   "id": "efd2b643",
   "metadata": {},
   "outputs": [
    {
     "name": "stdout",
     "output_type": "stream",
     "text": [
      "39.791666666666664\n"
     ]
    }
   ],
   "source": [
    "hitrate_mme=0\n",
    "for i in range(0,360):\n",
    "\n",
    "    if phase_ncei[i] == phase_MME[i]:\n",
    "        hitrate_mme=hitrate_mme+1\n",
    "    else:\n",
    "        hitrate_mme=hitrate_mme+0\n",
    "hitrate_mme=(hitrate_mme/len(phase_ncei))*100\n",
    "print(hitrate_mme)"
   ]
  },
  {
   "cell_type": "code",
   "execution_count": 15,
   "id": "693cbab2",
   "metadata": {},
   "outputs": [
    {
     "name": "stdout",
     "output_type": "stream",
     "text": [
      "34.583333333333336\n"
     ]
    }
   ],
   "source": [
    "hitrate_MPI_ESM=0\n",
    "for i in range(0,360):\n",
    "\n",
    "    if phase_ncei[i] == phase_MPI_ESM[i]:\n",
    "        hitrate_MPI_ESM=hitrate_MPI_ESM+1\n",
    "    else:\n",
    "        hitrate_MPI_ESM=hitrate_MPI_ESM+0\n",
    "hitrate_MPI_ESM=(hitrate_MPI_ESM/len(phase_MPI_ESM))*100\n",
    "print(hitrate_MPI_ESM)"
   ]
  },
  {
   "cell_type": "code",
   "execution_count": 16,
   "id": "32d76ceb",
   "metadata": {},
   "outputs": [
    {
     "name": "stdout",
     "output_type": "stream",
     "text": [
      "33.125\n"
     ]
    }
   ],
   "source": [
    "hitrate_ACCESS_CM2=0\n",
    "for i in range(0,360):\n",
    "\n",
    "    if phase_ncei[i] == phase_ACCESS_CM2[i]:\n",
    "        hitrate_ACCESS_CM2=hitrate_ACCESS_CM2+1\n",
    "    else:\n",
    "        hitrate_ACCESS_CM2=hitrate_ACCESS_CM2+0\n",
    "hitrate_ACCESS_CM2=(hitrate_ACCESS_CM2/len(phase_ACCESS_CM2))*100\n",
    "print(hitrate_ACCESS_CM2)"
   ]
  },
  {
   "cell_type": "code",
   "execution_count": 17,
   "id": "6d6e842c",
   "metadata": {},
   "outputs": [
    {
     "name": "stdout",
     "output_type": "stream",
     "text": [
      "42.70833333333333\n"
     ]
    }
   ],
   "source": [
    "hitrate_CAMS_CSM1_0=0\n",
    "for i in range(0,360):\n",
    "\n",
    "    if phase_ncei[i] == phase_CAMS_CSM1_0[i]:\n",
    "        hitrate_CAMS_CSM1_0=hitrate_CAMS_CSM1_0+1\n",
    "    else:\n",
    "        hitrate_CAMS_CSM1_0=hitrate_CAMS_CSM1_0+0\n",
    "hitrate_CAMS_CSM1_0=(hitrate_CAMS_CSM1_0/len(phase_CAMS_CSM1_0))*100\n",
    "print(hitrate_CAMS_CSM1_0)"
   ]
  },
  {
   "cell_type": "code",
   "execution_count": 18,
   "id": "814d9bd0",
   "metadata": {},
   "outputs": [
    {
     "name": "stdout",
     "output_type": "stream",
     "text": [
      "41.25\n"
     ]
    }
   ],
   "source": [
    "hitrate_CanESM5=0\n",
    "for i in range(0,360):\n",
    "\n",
    "    if phase_ncei[i] == phase_CanESM5[i]:\n",
    "        hitrate_CanESM5=hitrate_CanESM5+1\n",
    "    else:\n",
    "        hitrate_CanESM5=hitrate_CanESM5+0\n",
    "hitrate_CanESM5=(hitrate_CanESM5/len(phase_CanESM5))*100\n",
    "print(hitrate_CanESM5)"
   ]
  },
  {
   "cell_type": "code",
   "execution_count": 19,
   "id": "e32820f0",
   "metadata": {},
   "outputs": [
    {
     "name": "stdout",
     "output_type": "stream",
     "text": [
      "47.91666666666667\n"
     ]
    }
   ],
   "source": [
    "hitrate_CMCC_CM2_SR5=0\n",
    "for i in range(0,360):\n",
    "\n",
    "    if phase_ncei[i] == phase_CMCC_CM2_SR5[i]:\n",
    "        hitrate_CMCC_CM2_SR5=hitrate_CMCC_CM2_SR5+1\n",
    "    else:\n",
    "        hitrate_CMCC_CM2_SR5=hitrate_CMCC_CM2_SR5+0\n",
    "hitrate_CMCC_CM2_SR5=(hitrate_CMCC_CM2_SR5/len(phase_CMCC_CM2_SR5))*100\n",
    "print(hitrate_CMCC_CM2_SR5)"
   ]
  },
  {
   "cell_type": "code",
   "execution_count": 20,
   "id": "b1b39d4f",
   "metadata": {},
   "outputs": [
    {
     "name": "stdout",
     "output_type": "stream",
     "text": [
      "54.166666666666664\n"
     ]
    }
   ],
   "source": [
    "hitrate_INM_CM4_8=0\n",
    "for i in range(0,360):\n",
    "\n",
    "    if phase_ncei[i] == phase_INM_CM4_8[i]:\n",
    "        hitrate_INM_CM4_8=hitrate_INM_CM4_8+1\n",
    "    else:\n",
    "        hitrate_INM_CM4_8=hitrate_INM_CM4_8+0\n",
    "hitrate_INM_CM4_8=(hitrate_INM_CM4_8/len(phase_INM_CM4_8))*100\n",
    "print(hitrate_INM_CM4_8)"
   ]
  },
  {
   "cell_type": "code",
   "execution_count": 21,
   "id": "33a93c19",
   "metadata": {},
   "outputs": [
    {
     "name": "stdout",
     "output_type": "stream",
     "text": [
      "38.125\n"
     ]
    }
   ],
   "source": [
    "hitrate_MIROC6=0\n",
    "for i in range(0,360):\n",
    "\n",
    "    if phase_ncei[i] == phase_MIROC6[i]:\n",
    "        hitrate_MIROC6=hitrate_MIROC6+1\n",
    "    else:\n",
    "        hitrate_MIROC6=hitrate_MIROC6+0\n",
    "hitrate_MIROC6=(hitrate_MIROC6/len(phase_MIROC6))*100\n",
    "print(hitrate_MIROC6)"
   ]
  },
  {
   "cell_type": "code",
   "execution_count": 22,
   "id": "d8c355cc",
   "metadata": {},
   "outputs": [],
   "source": [
    "#created dataframe\n",
    "hitrate_plotdata = pd.DataFrame({'CNN': hitrate_cnn,'MME': hitrate_mme,'MPI-ESM': hitrate_MPI_ESM,'ACCESS-CM2': hitrate_ACCESS_CM2,\n",
    "                         'CAMS-CSM1-0': hitrate_CAMS_CSM1_0,'CanESM5': hitrate_CanESM5,'CMCC-CM2-SR5': hitrate_CMCC_CM2_SR5,\n",
    "                         'INM-CM4-8': hitrate_INM_CM4_8,'MIROC6':hitrate_MIROC6 },index = ['hitrate']) "
   ]
  },
  {
   "cell_type": "code",
   "execution_count": 23,
   "id": "40612c88",
   "metadata": {},
   "outputs": [
    {
     "data": {
      "text/html": [
       "<div>\n",
       "<style scoped>\n",
       "    .dataframe tbody tr th:only-of-type {\n",
       "        vertical-align: middle;\n",
       "    }\n",
       "\n",
       "    .dataframe tbody tr th {\n",
       "        vertical-align: top;\n",
       "    }\n",
       "\n",
       "    .dataframe thead th {\n",
       "        text-align: right;\n",
       "    }\n",
       "</style>\n",
       "<table border=\"1\" class=\"dataframe\">\n",
       "  <thead>\n",
       "    <tr style=\"text-align: right;\">\n",
       "      <th></th>\n",
       "      <th>CNN</th>\n",
       "      <th>MME</th>\n",
       "      <th>MPI-ESM</th>\n",
       "      <th>ACCESS-CM2</th>\n",
       "      <th>CAMS-CSM1-0</th>\n",
       "      <th>CanESM5</th>\n",
       "      <th>CMCC-CM2-SR5</th>\n",
       "      <th>INM-CM4-8</th>\n",
       "      <th>MIROC6</th>\n",
       "    </tr>\n",
       "  </thead>\n",
       "  <tbody>\n",
       "    <tr>\n",
       "      <th>hitrate</th>\n",
       "      <td>76.666667</td>\n",
       "      <td>39.791667</td>\n",
       "      <td>34.583333</td>\n",
       "      <td>33.125</td>\n",
       "      <td>42.708333</td>\n",
       "      <td>41.25</td>\n",
       "      <td>47.916667</td>\n",
       "      <td>54.166667</td>\n",
       "      <td>38.125</td>\n",
       "    </tr>\n",
       "  </tbody>\n",
       "</table>\n",
       "</div>"
      ],
      "text/plain": [
       "               CNN        MME    MPI-ESM  ACCESS-CM2  CAMS-CSM1-0  CanESM5  \\\n",
       "hitrate  76.666667  39.791667  34.583333      33.125    42.708333    41.25   \n",
       "\n",
       "         CMCC-CM2-SR5  INM-CM4-8  MIROC6  \n",
       "hitrate     47.916667  54.166667  38.125  "
      ]
     },
     "execution_count": 23,
     "metadata": {},
     "output_type": "execute_result"
    }
   ],
   "source": [
    "hitrate_plotdata"
   ]
  },
  {
   "cell_type": "code",
   "execution_count": 24,
   "id": "8b80c883",
   "metadata": {},
   "outputs": [
    {
     "data": {
      "text/html": [
       "<div>\n",
       "<style scoped>\n",
       "    .dataframe tbody tr th:only-of-type {\n",
       "        vertical-align: middle;\n",
       "    }\n",
       "\n",
       "    .dataframe tbody tr th {\n",
       "        vertical-align: top;\n",
       "    }\n",
       "\n",
       "    .dataframe thead th {\n",
       "        text-align: right;\n",
       "    }\n",
       "</style>\n",
       "<table border=\"1\" class=\"dataframe\">\n",
       "  <thead>\n",
       "    <tr style=\"text-align: right;\">\n",
       "      <th></th>\n",
       "      <th>hitrate</th>\n",
       "    </tr>\n",
       "  </thead>\n",
       "  <tbody>\n",
       "    <tr>\n",
       "      <th>CNN</th>\n",
       "      <td>76.666667</td>\n",
       "    </tr>\n",
       "    <tr>\n",
       "      <th>MME</th>\n",
       "      <td>39.791667</td>\n",
       "    </tr>\n",
       "    <tr>\n",
       "      <th>MPI-ESM</th>\n",
       "      <td>34.583333</td>\n",
       "    </tr>\n",
       "    <tr>\n",
       "      <th>ACCESS-CM2</th>\n",
       "      <td>33.125000</td>\n",
       "    </tr>\n",
       "    <tr>\n",
       "      <th>CAMS-CSM1-0</th>\n",
       "      <td>42.708333</td>\n",
       "    </tr>\n",
       "    <tr>\n",
       "      <th>CanESM5</th>\n",
       "      <td>41.250000</td>\n",
       "    </tr>\n",
       "    <tr>\n",
       "      <th>CMCC-CM2-SR5</th>\n",
       "      <td>47.916667</td>\n",
       "    </tr>\n",
       "    <tr>\n",
       "      <th>INM-CM4-8</th>\n",
       "      <td>54.166667</td>\n",
       "    </tr>\n",
       "    <tr>\n",
       "      <th>MIROC6</th>\n",
       "      <td>38.125000</td>\n",
       "    </tr>\n",
       "  </tbody>\n",
       "</table>\n",
       "</div>"
      ],
      "text/plain": [
       "                hitrate\n",
       "CNN           76.666667\n",
       "MME           39.791667\n",
       "MPI-ESM       34.583333\n",
       "ACCESS-CM2    33.125000\n",
       "CAMS-CSM1-0   42.708333\n",
       "CanESM5       41.250000\n",
       "CMCC-CM2-SR5  47.916667\n",
       "INM-CM4-8     54.166667\n",
       "MIROC6        38.125000"
      ]
     },
     "execution_count": 24,
     "metadata": {},
     "output_type": "execute_result"
    }
   ],
   "source": [
    "hitrate = hitrate_plotdata.T\n",
    "hitrate"
   ]
  },
  {
   "cell_type": "code",
   "execution_count": 25,
   "id": "c033c6dc",
   "metadata": {},
   "outputs": [
    {
     "data": {
      "text/plain": [
       "[[76.66666666666667,\n",
       "  39.791666666666664,\n",
       "  34.583333333333336,\n",
       "  33.125,\n",
       "  42.70833333333333,\n",
       "  41.25,\n",
       "  47.91666666666667,\n",
       "  54.166666666666664,\n",
       "  38.125]]"
      ]
     },
     "execution_count": 25,
     "metadata": {},
     "output_type": "execute_result"
    }
   ],
   "source": [
    "## Combine all hitrate to compute the 95% confidence level of the all-model based on the bootstrap approach.\n",
    "df=hitrate_plotdata.values.tolist()\n",
    "df"
   ]
  },
  {
   "cell_type": "code",
   "execution_count": 26,
   "id": "dab90e14",
   "metadata": {},
   "outputs": [],
   "source": [
    "#calculate 95% confident Level of all methods based on bootstrap method \n",
    "def bootstrap_sample(data, num_samples):\n",
    "    return np.random.choice(data, size=num_samples, replace=True)\n",
    "\n",
    "    \n",
    "x = []\n",
    "for i in range(0,len(df)):\n",
    "    x.extend(adjust(df[i]))\n",
    "x\n",
    "\n",
    "\n",
    "for i in range (0,8):\n",
    "    \n",
    "    data = x\n",
    "    bootstrap_means = []\n",
    "\n",
    "    for _ in range(1000):  # doing 1000 bootstrap samples\n",
    "        sample = bootstrap_sample(data, len(data))\n",
    "        bootstrap_means.append(np.mean(sample))\n",
    "\n",
    "    confidence_level = 0.95\n",
    "    lower_percentile = (1-confidence_level)/2 * 100\n",
    "    upper_percentile = (1+confidence_level)/2 * 100\n",
    "\n",
    "    confidence_interval = (np.percentile(bootstrap_means, lower_percentile),\n",
    "                           np.percentile(bootstrap_means, upper_percentile))\n",
    "    \n",
    "lower=confidence_interval[0]\n",
    "upper=confidence_interval[1]"
   ]
  },
  {
   "cell_type": "code",
   "execution_count": 27,
   "id": "69811311",
   "metadata": {},
   "outputs": [
    {
     "data": {
      "text/plain": [
       "(38.03240740740741, 54.770254629629626)"
      ]
     },
     "execution_count": 27,
     "metadata": {},
     "output_type": "execute_result"
    }
   ],
   "source": [
    "confidence_interval"
   ]
  },
  {
   "cell_type": "code",
   "execution_count": 28,
   "id": "40835eba",
   "metadata": {},
   "outputs": [
    {
     "data": {
      "image/png": "[encoded data removed]",
      "text/plain": [
       "<Figure size 1200x400 with 1 Axes>"
      ]
     },
     "metadata": {},
     "output_type": "display_data"
    }
   ],
   "source": [
    "# plotted hit rate of all-season PDO type predictions (Figure 3b))\n",
    "ax = hitrate.plot(kind=\"bar\",figsize=(12, 4),legend=False,zorder =4)\n",
    "\n",
    "plt.rcParams[\"font.family\"] = \"Arial\"\n",
    "\n",
    "\n",
    "plt.axhline(y=confidence_interval[0], c=\"gray\", linestyle = 'dashed',linewidth=0.5)\n",
    "plt.axhline(y=confidence_interval[1], c=\"gray\", linestyle = 'dashed',linewidth=0.5)\n",
    "\n",
    "\n",
    "x_offset = -0.15\n",
    "y_offset = 1\n",
    "for p in ax.patches:\n",
    "    b = p.get_bbox()\n",
    "    val = \"{:.0f}\".format(b.y1 + b.y0) +'%'      \n",
    "    ax.annotate(val, ((b.x0 + b.x1)/2 + x_offset, b.y1 + y_offset),size=10)\n",
    "    \n",
    "c = np.arange(-1, 12, 1)\n",
    "a = (confidence_interval[0])\n",
    "b = (confidence_interval[1])\n",
    "\n",
    "ax.fill_between(c,a,b, color = 'gray', alpha = 0.1,zorder = 0)\n",
    "plt.rcParams[\"font.family\"] = \"Arial\"\n",
    "\n",
    "\n",
    "plt.text(-1.3,95, \"b)\",fontsize=16)\n",
    "\n",
    "plt.xticks(rotation=90, horizontalalignment=\"center\")\n",
    "\n",
    "plt.ylim(-0,100)\n",
    "\n",
    "plt.ylabel('Hit rate (%)', fontsize=14)\n",
    "plt.xticks([0,1,2,3,4,5,6,7,8],['Channel-wise\\nbased CNN', 'MME','MPI-\\nESM', 'ACCESS-\\nCM2', 'CAMS-\\nCSM1-0', 'CanESM5',\n",
    "                                     'CMCC-\\nCM2-SR5','INM-\\nCM4-8','MIROC6']\n",
    "           ,rotation=0, fontsize=10)\n",
    "plt.yticks( fontsize=12)\n",
    "\n",
    "plt.savefig(outdir+'PDO hit rate'+'.png',bbox_inches='tight')\n",
    "plt.show()"
   ]
  },
  {
   "cell_type": "markdown",
   "id": "2b61ad80",
   "metadata": {},
   "source": [
    "# END"
   ]
  }
 ],
 "metadata": {
  "kernelspec": {
   "display_name": "oceanenv",
   "language": "python",
   "name": "oceanenv"
  },
  "language_info": {
   "codemirror_mode": {
    "name": "ipython",
    "version": 3
   },
   "file_extension": ".py",
   "mimetype": "text/x-python",
   "name": "python",
   "nbconvert_exporter": "python",
   "pygments_lexer": "ipython3",
   "version": "3.10.11"
  }
 },
 "nbformat": 4,
 "nbformat_minor": 5
}
